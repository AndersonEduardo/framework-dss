{
 "cells": [
  {
   "cell_type": "markdown",
   "metadata": {},
   "source": [
    "**Python packages and libraries**"
   ]
  },
  {
   "cell_type": "code",
   "execution_count": 1,
   "metadata": {},
   "outputs": [],
   "source": [
    "import numpy as np\n",
    "import pandas as pd\n",
    "from scipy import stats\n",
    "\n",
    "import matplotlib.pyplot as plt\n",
    "import seaborn as sns"
   ]
  },
  {
   "cell_type": "markdown",
   "metadata": {},
   "source": [
    "**Data loading**"
   ]
  },
  {
   "cell_type": "code",
   "execution_count": 2,
   "metadata": {},
   "outputs": [],
   "source": [
    "df = pd.read_csv('empirical_data.csv')"
   ]
  },
  {
   "cell_type": "markdown",
   "metadata": {},
   "source": [
    "**Data inspection**"
   ]
  },
  {
   "cell_type": "code",
   "execution_count": 3,
   "metadata": {},
   "outputs": [
    {
     "data": {
      "text/plain": [
       "(5921, 4)"
      ]
     },
     "execution_count": 3,
     "metadata": {},
     "output_type": "execute_result"
    }
   ],
   "source": [
    "df.shape"
   ]
  },
  {
   "cell_type": "code",
   "execution_count": 4,
   "metadata": {},
   "outputs": [
    {
     "data": {
      "text/plain": [
       "Index(['encounter_id', 'start_date', 'end_date', 'duration'], dtype='object')"
      ]
     },
     "execution_count": 4,
     "metadata": {},
     "output_type": "execute_result"
    }
   ],
   "source": [
    "df.columns"
   ]
  },
  {
   "cell_type": "code",
   "execution_count": 5,
   "metadata": {},
   "outputs": [],
   "source": [
    "df['start_date'] = pd.to_datetime(df['start_date'])\n",
    "\n",
    "df['end_date'] = pd.to_datetime(df['end_date'])"
   ]
  },
  {
   "cell_type": "code",
   "execution_count": 6,
   "metadata": {},
   "outputs": [
    {
     "data": {
      "text/plain": [
       "encounter_id             int64\n",
       "start_date      datetime64[ns]\n",
       "end_date        datetime64[ns]\n",
       "duration               float64\n",
       "dtype: object"
      ]
     },
     "execution_count": 6,
     "metadata": {},
     "output_type": "execute_result"
    }
   ],
   "source": [
    "df.dtypes"
   ]
  },
  {
   "cell_type": "code",
   "execution_count": 7,
   "metadata": {},
   "outputs": [
    {
     "data": {
      "text/html": [
       "<div>\n",
       "<style scoped>\n",
       "    .dataframe tbody tr th:only-of-type {\n",
       "        vertical-align: middle;\n",
       "    }\n",
       "\n",
       "    .dataframe tbody tr th {\n",
       "        vertical-align: top;\n",
       "    }\n",
       "\n",
       "    .dataframe thead th {\n",
       "        text-align: right;\n",
       "    }\n",
       "</style>\n",
       "<table border=\"1\" class=\"dataframe\">\n",
       "  <thead>\n",
       "    <tr style=\"text-align: right;\">\n",
       "      <th></th>\n",
       "      <th>encounter_id</th>\n",
       "      <th>start_date</th>\n",
       "      <th>end_date</th>\n",
       "      <th>duration</th>\n",
       "    </tr>\n",
       "  </thead>\n",
       "  <tbody>\n",
       "    <tr>\n",
       "      <th>5916</th>\n",
       "      <td>391813</td>\n",
       "      <td>2023-11-29 12:55:15.517</td>\n",
       "      <td>2023-11-29 13:01:33.488</td>\n",
       "      <td>6.2833</td>\n",
       "    </tr>\n",
       "    <tr>\n",
       "      <th>5917</th>\n",
       "      <td>392402</td>\n",
       "      <td>2023-11-29 18:49:58.765</td>\n",
       "      <td>2023-11-29 19:05:08.606</td>\n",
       "      <td>15.1500</td>\n",
       "    </tr>\n",
       "    <tr>\n",
       "      <th>5918</th>\n",
       "      <td>394707</td>\n",
       "      <td>2023-12-01 16:03:34.832</td>\n",
       "      <td>2023-12-01 16:17:47.238</td>\n",
       "      <td>14.2000</td>\n",
       "    </tr>\n",
       "    <tr>\n",
       "      <th>5919</th>\n",
       "      <td>394772</td>\n",
       "      <td>2023-12-01 16:49:00.384</td>\n",
       "      <td>2023-12-01 17:07:18.792</td>\n",
       "      <td>18.3000</td>\n",
       "    </tr>\n",
       "    <tr>\n",
       "      <th>5920</th>\n",
       "      <td>395260</td>\n",
       "      <td>2023-12-02 01:13:50.697</td>\n",
       "      <td>2023-12-02 01:22:53.810</td>\n",
       "      <td>9.0500</td>\n",
       "    </tr>\n",
       "  </tbody>\n",
       "</table>\n",
       "</div>"
      ],
      "text/plain": [
       "      encounter_id              start_date                end_date  duration\n",
       "5916        391813 2023-11-29 12:55:15.517 2023-11-29 13:01:33.488    6.2833\n",
       "5917        392402 2023-11-29 18:49:58.765 2023-11-29 19:05:08.606   15.1500\n",
       "5918        394707 2023-12-01 16:03:34.832 2023-12-01 16:17:47.238   14.2000\n",
       "5919        394772 2023-12-01 16:49:00.384 2023-12-01 17:07:18.792   18.3000\n",
       "5920        395260 2023-12-02 01:13:50.697 2023-12-02 01:22:53.810    9.0500"
      ]
     },
     "execution_count": 7,
     "metadata": {},
     "output_type": "execute_result"
    }
   ],
   "source": [
    "df.tail()"
   ]
  },
  {
   "cell_type": "markdown",
   "metadata": {},
   "source": [
    "**Feature engineering**"
   ]
  },
  {
   "cell_type": "code",
   "execution_count": 8,
   "metadata": {},
   "outputs": [],
   "source": [
    "df['implemented'] = df['start_date'].apply(lambda x: False if x < pd.to_datetime('2022-12-31') else True)"
   ]
  },
  {
   "cell_type": "code",
   "execution_count": 9,
   "metadata": {},
   "outputs": [
    {
     "data": {
      "text/plain": [
       "True     3015\n",
       "False    2906\n",
       "Name: implemented, dtype: int64"
      ]
     },
     "execution_count": 9,
     "metadata": {},
     "output_type": "execute_result"
    }
   ],
   "source": [
    "df.implemented.value_counts()"
   ]
  },
  {
   "cell_type": "markdown",
   "metadata": {},
   "source": [
    "**Statistics**"
   ]
  },
  {
   "cell_type": "code",
   "execution_count": 10,
   "metadata": {},
   "outputs": [],
   "source": [
    "focal_parameter = 'duration'"
   ]
  },
  {
   "cell_type": "code",
   "execution_count": 11,
   "metadata": {},
   "outputs": [
    {
     "data": {
      "text/plain": [
       "Text(61, 0.01, 'Mann-Whitney \\nU=4135606.5 \\np-value < 0.01')"
      ]
     },
     "execution_count": 11,
     "metadata": {},
     "output_type": "execute_result"
    },
    {
     "data": {
      "image/png": "[encoded data removed]",
      "text/plain": [
       "<Figure size 640x480 with 1 Axes>"
      ]
     },
     "metadata": {},
     "output_type": "display_data"
    }
   ],
   "source": [
    "sns.kdeplot(\n",
    "    data = df.rename(columns={'implemented': 'System deployment'}).replace({True:'After', False:'Before'}),\n",
    "    x = focal_parameter,\n",
    "    hue = 'System deployment',\n",
    "    fill = True\n",
    ")\n",
    "\n",
    "plt.title('Density of EHR form filling time')\n",
    "plt.xlabel('Time spent (in minutes)')\n",
    "plt.ylabel('Density')\n",
    "\n",
    "\n",
    "plt.text(x = 61, y = 0.010, s = 'Mann-Whitney \\nU=4135606.5 \\np-value < 0.01', ha=\"center\", va=\"center\", fontsize=10)\n",
    "\n",
    "# plt.legend()\n"
   ]
  },
  {
   "cell_type": "code",
   "execution_count": 12,
   "metadata": {},
   "outputs": [
    {
     "data": {
      "text/plain": [
       "(24.2167, 25.94165)"
      ]
     },
     "execution_count": 12,
     "metadata": {},
     "output_type": "execute_result"
    }
   ],
   "source": [
    "(df.query('implemented == True')[focal_parameter].median(),\n",
    " df.query('implemented == False')[focal_parameter].median())"
   ]
  },
  {
   "cell_type": "code",
   "execution_count": 13,
   "metadata": {},
   "outputs": [
    {
     "name": "stdout",
     "output_type": "stream",
     "text": [
      "focal_parameter: duration\n"
     ]
    },
    {
     "data": {
      "text/plain": [
       "MannwhitneyuResult(statistic=4135606.5, pvalue=9.621279136894727e-05)"
      ]
     },
     "execution_count": 13,
     "metadata": {},
     "output_type": "execute_result"
    }
   ],
   "source": [
    "print('focal_parameter:', focal_parameter)\n",
    "\n",
    "stats.mannwhitneyu(\n",
    "        x = df.query('implemented == True')[focal_parameter].to_list(),\n",
    "        y = df.query('implemented == False')[focal_parameter].to_list(),\n",
    "        alternative = 'less'\n",
    ")"
   ]
  }
 ],
 "metadata": {
  "kernelspec": {
   "display_name": "Python 3",
   "language": "python",
   "name": "python3"
  },
  "language_info": {
   "codemirror_mode": {
    "name": "ipython",
    "version": 3
   },
   "file_extension": ".py",
   "mimetype": "text/x-python",
   "name": "python",
   "nbconvert_exporter": "python",
   "pygments_lexer": "ipython3",
   "version": "3.11.4"
  }
 },
 "nbformat": 4,
 "nbformat_minor": 2
}
